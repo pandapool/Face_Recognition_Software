{
 "cells": [
  {
   "cell_type": "code",
   "execution_count": 1,
   "metadata": {},
   "outputs": [],
   "source": [
    "import cv2\n",
    "import os\n",
    "import csv\n",
    "import tkinter as tk\n",
    "import numpy as np\n",
    "import matplotlib.pyplot as plt\n",
    "import pandas as pd\n",
    "import numpy as np\n",
    "import random\n",
    "import string\n",
    "import csv\n",
    "import face_recognition"
   ]
  },
  {
   "cell_type": "code",
   "execution_count": 2,
   "metadata": {},
   "outputs": [],
   "source": [
    "#face detector\n",
    "face_detect = cv2.CascadeClassifier(\"./req/haarcascade_frontalface_default.xml\")"
   ]
  },
  {
   "cell_type": "code",
   "execution_count": 3,
   "metadata": {},
   "outputs": [],
   "source": [
    "#create path to store new photos\n",
    "path = './new'\n",
    "if not os.path.exists(path):\n",
    "    os.makedirs(path)"
   ]
  },
  {
   "cell_type": "markdown",
   "metadata": {},
   "source": [
    "## New Person"
   ]
  },
  {
   "cell_type": "code",
   "execution_count": 4,
   "metadata": {},
   "outputs": [],
   "source": [
    "#create id file\n",
    "def first_time(filename):\n",
    "    try:\n",
    "        f = open(filename)\n",
    "        f.close()\n",
    "        return False\n",
    "    except IOError:\n",
    "        f = open(filename,\"w\")\n",
    "        f.close()\n",
    "           \n",
    "        return True\n",
    "#with open('./req/database.csv','w') as csvfile:\n",
    "    "
   ]
  },
  {
   "cell_type": "code",
   "execution_count": 5,
   "metadata": {},
   "outputs": [],
   "source": [
    "def generate_pass():\n",
    "    randpass = str(random.randint(0,9))+str(random.randint(0,9))+str(random.choice(string.ascii_letters[26:]))+str(random.choice(string.ascii_letters[26:]))\n",
    "    df = pd.read_csv('./req/database.csv')\n",
    "    if randpass in df.PassID.values:\n",
    "        return generate_pass()\n",
    "    else:\n",
    "        return randpass"
   ]
  },
  {
   "cell_type": "code",
   "execution_count": 17,
   "metadata": {},
   "outputs": [],
   "source": [
    "def updatedb():\n",
    "    x = generate_pass()\n",
    "    os.makedirs('./req/'+x)\n",
    "    print \"Generated Pass: \", x\n",
    "    f = open('./new/id.txt','w')\n",
    "    f.write(x)\n",
    "    f.close()\n",
    "    f = open('./req/database.csv','a')\n",
    "    f.write(str(Name)+','+str(x)+'\\n')\n",
    "    f.close()\n",
    "    return x"
   ]
  },
  {
   "cell_type": "code",
   "execution_count": 5,
   "metadata": {},
   "outputs": [],
   "source": [
    "#updatedb()"
   ]
  },
  {
   "cell_type": "code",
   "execution_count": 7,
   "metadata": {},
   "outputs": [],
   "source": [
    "def enter_name():\n",
    "    if first_time(filename = './new/id.txt'):\n",
    "        print 'First time Latest id Created'\n",
    "    \n",
    "    if first_time(filename = './req/database.csv'):\n",
    "        f = open(\"./req/database.csv\",\"w\")\n",
    "        f.write('Name,PassID\\n')\n",
    "        f.close()\n",
    "        print 'Database Created'    \n",
    "    \n",
    "    \n",
    "    def show_entry_fields():\n",
    "        global Name\n",
    "        Name = e1.get()\n",
    "        master.destroy()\n",
    "\n",
    "    master = tk.Tk()\n",
    "    tk.Label(master, \n",
    "             text=\"Name\").grid(row=0)\n",
    "    e1 = tk.Entry(master)\n",
    "\n",
    "\n",
    "    e1.grid(row=0, column=1)\n",
    "\n",
    "\n",
    "\n",
    "    tk.Button(master, \n",
    "              text= 'Enter', command=show_entry_fields).grid(row=3, \n",
    "                                                           column=1, \n",
    "                                                           sticky=tk.W, \n",
    "                                                           pady=4)\n",
    "\n",
    "    tk.mainloop()\n",
    "    \n",
    "    if Name == '':\n",
    "        print \"no name entered\"\n",
    "        return False\n",
    "    return True"
   ]
  },
  {
   "cell_type": "code",
   "execution_count": null,
   "metadata": {},
   "outputs": [],
   "source": []
  },
  {
   "cell_type": "code",
   "execution_count": 29,
   "metadata": {},
   "outputs": [],
   "source": [
    "def capture_photos():\n",
    "    #capture photos\n",
    "    if(enter_name()):\n",
    "        cap = cv2.VideoCapture(0)    \n",
    "        def mouseclick(event,x,y,flags,params):\n",
    "            global captured,i,v\n",
    "            if event == cv2.EVENT_LBUTTONDOWN:\n",
    "                captured = copy[b-50:b+d+50,a-50:a+c+50]\n",
    "                cv2.imshow('captured',captured)\n",
    "                cv2.imwrite('./new/'+str(i)+'.jpg',captured)\n",
    "                i+=1\n",
    "                if i == 1:\n",
    "                    v = updatedb()\n",
    "                print './req/'+ v +'.jpg'\n",
    "                cv2.imwrite('./req/'+ v + '/' + str(i-1) +'.jpg',captured)\n",
    "                print 'Database Updated'\n",
    "    \n",
    "        _,frame = cap.read()\n",
    "        cv2.namedWindow('frame')\n",
    "        cv2.setMouseCallback('frame',mouseclick)\n",
    "    \n",
    "        while True:\n",
    "            global i\n",
    "            _,frame= cap.read()\n",
    "    \n",
    "            gray = cv2.cvtColor(frame,cv2.COLOR_BGR2GRAY)\n",
    "        \n",
    "            face = face_detect.detectMultiScale(gray,minNeighbors=5)\n",
    "            copy = frame.copy()\n",
    "            for a,b,c,d in face:\n",
    "                cv2.rectangle(frame,(a,b),(a+c,b+d),(0,0,250),2)\n",
    "            cv2.imshow('frame',frame)\n",
    "            k =cv2.waitKey(5)\n",
    "            if k == 27:\n",
    "                break\n",
    "            if i>4:\n",
    "                break\n",
    "        \n",
    "        cap.release()\n",
    "        cv2.destroyAllWindows()\n",
    "        print 'Photos Captured'\n",
    "    else:\n",
    "        print \"Name Required please retry\""
   ]
  },
  {
   "cell_type": "code",
   "execution_count": 10,
   "metadata": {},
   "outputs": [],
   "source": [
    "#cv2.destroyAllWindows()"
   ]
  },
  {
   "cell_type": "markdown",
   "metadata": {},
   "source": [
    "## Register new user"
   ]
  },
  {
   "cell_type": "code",
   "execution_count": 30,
   "metadata": {},
   "outputs": [
    {
     "name": "stdout",
     "output_type": "stream",
     "text": [
      "Generated Pass:  04SP\n",
      "./req/04SP.jpg\n",
      "Database Updated\n",
      "./req/04SP.jpg\n",
      "Database Updated\n",
      "./req/04SP.jpg\n",
      "Database Updated\n",
      "./req/04SP.jpg\n",
      "Database Updated\n",
      "./req/04SP.jpg\n",
      "Database Updated\n",
      "Photos Captured\n"
     ]
    }
   ],
   "source": [
    "Name = ''\n",
    "v = None\n",
    "captured =None\n",
    "i= 0\n",
    "capture_photos()"
   ]
  },
  {
   "cell_type": "code",
   "execution_count": 21,
   "metadata": {},
   "outputs": [],
   "source": [
    "#cv2.destroyAllWindows()"
   ]
  },
  {
   "cell_type": "markdown",
   "metadata": {},
   "source": [
    "## Recognize"
   ]
  },
  {
   "cell_type": "code",
   "execution_count": 20,
   "metadata": {},
   "outputs": [],
   "source": [
    "path = './scan'\n",
    "if not os.path.exists(path):\n",
    "    os.makedirs(path)"
   ]
  },
  {
   "cell_type": "code",
   "execution_count": 31,
   "metadata": {},
   "outputs": [],
   "source": [
    "def scanface():\n",
    "    #capture photos\n",
    "        cap = cv2.VideoCapture(0)    \n",
    "        def mouseclick(event,x,y,flags,params):\n",
    "            global captured,i,photos\n",
    "            if event == cv2.EVENT_LBUTTONDOWN:\n",
    "                captured = copy[b-10:b+d+10,a-10:a+c+10]\n",
    "                cv2.imwrite('./scan/'+str(i)+'.jpg',captured)\n",
    "                i+=1\n",
    "        _,frame = cap.read()\n",
    "        cv2.namedWindow('frame')\n",
    "        cv2.setMouseCallback('frame',mouseclick)\n",
    "    \n",
    "        while True:\n",
    "            global i\n",
    "            _,frame= cap.read()\n",
    "    \n",
    "            gray = cv2.cvtColor(frame,cv2.COLOR_BGR2GRAY)\n",
    "        \n",
    "            face = face_detect.detectMultiScale(gray,minNeighbors=5)\n",
    "            copy = frame.copy()\n",
    "            for a,b,c,d in face:\n",
    "                cv2.rectangle(frame,(a,b),(a+c,b+d),(0,0,250),2)\n",
    "            cv2.imshow('frame',frame)\n",
    "            k =cv2.waitKey(5)\n",
    "            if k == 27:\n",
    "                break\n",
    "            if i>0:\n",
    "                break\n",
    "\n",
    "        cap.release()\n",
    "        cv2.destroyAllWindows()"
   ]
  },
  {
   "cell_type": "markdown",
   "metadata": {},
   "source": [
    "## Authentication"
   ]
  },
  {
   "cell_type": "code",
   "execution_count": 34,
   "metadata": {
    "scrolled": true
   },
   "outputs": [
    {
     "name": "stdout",
     "output_type": "stream",
     "text": [
      "Enter passID: 04SP\n",
      "ok1\n",
      "ok2\n",
      "ok3\n",
      "ok4\n",
      "ok5\n",
      "ok3\n",
      "ok4\n",
      "ok5\n",
      "ok3\n",
      "ok4\n",
      "ok5\n",
      "ok3\n",
      "ok4\n",
      "ok5\n",
      "ok3\n",
      "ok4\n",
      "ok5\n",
      "[True, True, True, True, True]\n",
      "Welcome\n"
     ]
    }
   ],
   "source": [
    "i = 0\n",
    "df = pd.read_csv('./req/database.csv')\n",
    "pid = raw_input(\"Enter passID: \")\n",
    "if pid in df.PassID.values:\n",
    "    scanface()\n",
    "else:\n",
    "    print 'Invalid ID'\n",
    "try:\n",
    "    \n",
    "        unknown_image = face_recognition.load_image_file(\"./scan/0.jpg\")\n",
    "        unknown_encoding = face_recognition.face_encodings(unknown_image)[0]\n",
    "\n",
    "        l = 0\n",
    "        results = []\n",
    "        while l<5:\n",
    "            known_image = face_recognition.load_image_file(\"./req/\"+pid+'/'+str(l)+\".jpg\")\n",
    "            biden_encoding = face_recognition.face_encodings(known_image)[0]\n",
    "            results.append(face_recognition.compare_faces([biden_encoding], unknown_encoding,tolerance=0.35)[0])\n",
    "            l+=1\n",
    "    \n",
    "        print results\n",
    "        if sum(results) >=3:\n",
    "            print 'Welcome'\n",
    "        else:\n",
    "            print 'Access Denied'\n",
    "\n",
    "except:\n",
    "        print 'Please retry'"
   ]
  }
 ],
 "metadata": {
  "kernelspec": {
   "display_name": "Python 2",
   "language": "python",
   "name": "python2"
  },
  "language_info": {
   "codemirror_mode": {
    "name": "ipython",
    "version": 2
   },
   "file_extension": ".py",
   "mimetype": "text/x-python",
   "name": "python",
   "nbconvert_exporter": "python",
   "pygments_lexer": "ipython2",
   "version": "2.7.15"
  }
 },
 "nbformat": 4,
 "nbformat_minor": 2
}
